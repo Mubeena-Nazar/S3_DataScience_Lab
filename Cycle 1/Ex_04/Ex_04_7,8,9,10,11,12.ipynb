{
  "cells": [
    {
      "cell_type": "code",
      "execution_count": null,
      "id": "b288da84",
      "metadata": {
        "id": "b288da84",
        "outputId": "d795c575-76bb-4faf-da60-a37e57477e03"
      },
      "outputs": [
        {
          "name": "stdout",
          "output_type": "stream",
          "text": [
            "    Name Occupation  Salary\n",
            "0  Naaji   Engineer   52000\n",
            "1  Aishu     Dancer   60000\n",
            "2  Kichu     Singer   45000\n",
            "3   Fida     Dancer   35000\n",
            "4  Virat   Engineer   75000\n",
            "5  Kohli  Cricketer   46000 \n",
            "\n",
            "\n",
            "  Occupation  Count  Avg_Salary\n",
            "0  Cricketer      1     46000.0\n",
            "1     Dancer      2     47500.0\n",
            "2   Engineer      2     63500.0\n",
            "3     Singer      1     45000.0\n"
          ]
        }
      ],
      "source": [
        "\"\"\"\n",
        "9. Given  is  a  dataframe  showing  name,  occupation,  salary  of  people. \n",
        "Find  the  average salary per occupation\n",
        "\"\"\"\n",
        "import pandas as  pd\n",
        "employee =  pd.read_csv(\"Employee.csv\")\n",
        "\n",
        "print(employee,\"\\n\\n\")\n",
        "#dept_agg = employee.groupby('Occupation').Salary.mean()\n",
        "#print(dept_agg)\n",
        "dept_agg = employee.groupby('Occupation').Salary.agg(['count','mean']).reset_index()\n",
        "print(dept_agg.rename(columns={'count':'Count','mean':'Avg_Salary'}))"
      ]
    },
    {
      "cell_type": "code",
      "source": [
        "\"\"\"\n",
        "7.Given a dataframe, change the index of a dataframe from the default indexes to a particular column\n",
        "\"\"\"\n",
        "import pandas as pd\n",
        "lists = [[12, 'Virat', 22 ],\n",
        "         [15, 'Zen', 25],\n",
        "         [11, 'Aman', 24]]\n",
        "\n",
        "dataframe = pd.DataFrame(lists, columns = ['id', 'name', 'age'])\n",
        "print(\" original dataframe before custom indexing\\n\")\n",
        "print(dataframe)\n",
        "\n",
        "print(\"\\n\\n\")\n",
        "print(\" dataframe after custom indexing\\n\")\n",
        "dataframe_customindex = dataframe.set_index('id') # custom indexed dataframe with column, 'id'\n",
        "\n",
        "print(dataframe_customindex)"
      ],
      "metadata": {
        "colab": {
          "base_uri": "https://localhost:8080/"
        },
        "id": "iwrJSBOUnkEE",
        "outputId": "da421b4b-e9e4-43f7-d897-a05321be0ce1"
      },
      "id": "iwrJSBOUnkEE",
      "execution_count": 4,
      "outputs": [
        {
          "output_type": "stream",
          "name": "stdout",
          "text": [
            " original dataframe before custom indexing\n",
            "\n",
            "   id   name  age\n",
            "0  12  Virat   22\n",
            "1  15    Zen   25\n",
            "2  11   Aman   24\n",
            "\n",
            "\n",
            "\n",
            " dataframe after custom indexing\n",
            "\n",
            "     name  age\n",
            "id            \n",
            "12  Virat   22\n",
            "15    Zen   25\n",
            "11   Aman   24\n"
          ]
        }
      ]
    },
    {
      "cell_type": "code",
      "source": [
        "\"\"\"\"8. Given a dataframe, select first 2 rows and output them\"\"\"\n",
        "import pandas as pd\n",
        "record = {\n",
        "  \"Name\": [\"Tom\", \"Jack\", \"Lucy\",\n",
        "           \"Bob\", \"Jerry\", \"Alice\",\n",
        "           \"Thomas\", \"Barbie\"],\n",
        "    \n",
        "   \"Marks\": [9, 19, 20, \n",
        "             17, 11, 18,\n",
        "             5, 8], \n",
        "    \n",
        "  \"Status\": [\"Fail\", \"Pass\", \"Pass\",\n",
        "             \"Pass\",\"Pass\", \"Pass\",\n",
        "             \"Fail\", \"Fail\"]}\n",
        "\n",
        "df = pd.DataFrame(record)\n",
        "print(df,\"\\n\")\n",
        "\n",
        "\n",
        "print(\"Printing first 3 rows : \\n\")\n",
        "df1 = df.head(3)\n",
        "print(df1,\"\\n\")\n",
        "\n",
        "print(\"Printing given number of rows as range : \\n\")\n",
        "df2 = df.iloc[2:6]\n",
        "print(df2,\"\\n\")\n",
        "\n",
        "print(\"Printing given number of rows : \\n\")\n",
        "df3 = df.iloc[[0, 1, 2]]\n",
        "print(df3,\"\\n\")"
      ],
      "metadata": {
        "colab": {
          "base_uri": "https://localhost:8080/"
        },
        "id": "k8Y5hDDinuSS",
        "outputId": "8b820703-0daf-480a-a8c0-fc74027ba680"
      },
      "id": "k8Y5hDDinuSS",
      "execution_count": 3,
      "outputs": [
        {
          "output_type": "stream",
          "name": "stdout",
          "text": [
            "     Name  Marks Status\n",
            "0     Tom      9   Fail\n",
            "1    Jack     19   Pass\n",
            "2    Lucy     20   Pass\n",
            "3     Bob     17   Pass\n",
            "4   Jerry     11   Pass\n",
            "5   Alice     18   Pass\n",
            "6  Thomas      5   Fail\n",
            "7  Barbie      8   Fail \n",
            "\n",
            "Printing first 3 rows : \n",
            "\n",
            "   Name  Marks Status\n",
            "0   Tom      9   Fail\n",
            "1  Jack     19   Pass\n",
            "2  Lucy     20   Pass \n",
            "\n",
            "Printing given number of rows as range : \n",
            "\n",
            "    Name  Marks Status\n",
            "2   Lucy     20   Pass\n",
            "3    Bob     17   Pass\n",
            "4  Jerry     11   Pass\n",
            "5  Alice     18   Pass \n",
            "\n",
            "Printing given number of rows : \n",
            "\n",
            "   Name  Marks Status\n",
            "0   Tom      9   Fail\n",
            "1  Jack     19   Pass\n",
            "2  Lucy     20   Pass \n",
            "\n"
          ]
        }
      ]
    },
    {
      "cell_type": "code",
      "execution_count": null,
      "id": "3e97b0e9",
      "metadata": {
        "id": "3e97b0e9",
        "outputId": "0c1c6f4f-21ae-4c34-f064-0538751f7f79"
      },
      "outputs": [
        {
          "data": {
            "text/html": [
              "<div>\n",
              "<style scoped>\n",
              "    .dataframe tbody tr th:only-of-type {\n",
              "        vertical-align: middle;\n",
              "    }\n",
              "\n",
              "    .dataframe tbody tr th {\n",
              "        vertical-align: top;\n",
              "    }\n",
              "\n",
              "    .dataframe thead th {\n",
              "        text-align: right;\n",
              "    }\n",
              "</style>\n",
              "<table border=\"1\" class=\"dataframe\">\n",
              "  <thead>\n",
              "    <tr style=\"text-align: right;\">\n",
              "      <th></th>\n",
              "      <th>Set_of_Numbers</th>\n",
              "    </tr>\n",
              "  </thead>\n",
              "  <tbody>\n",
              "    <tr>\n",
              "      <th>0</th>\n",
              "      <td>2.0</td>\n",
              "    </tr>\n",
              "    <tr>\n",
              "      <th>1</th>\n",
              "      <td>3.0</td>\n",
              "    </tr>\n",
              "    <tr>\n",
              "      <th>2</th>\n",
              "      <td>5.0</td>\n",
              "    </tr>\n",
              "    <tr>\n",
              "      <th>3</th>\n",
              "      <td>7.0</td>\n",
              "    </tr>\n",
              "    <tr>\n",
              "      <th>4</th>\n",
              "      <td>11.0</td>\n",
              "    </tr>\n",
              "    <tr>\n",
              "      <th>5</th>\n",
              "      <td>13.0</td>\n",
              "    </tr>\n",
              "    <tr>\n",
              "      <th>6</th>\n",
              "      <td>0.0</td>\n",
              "    </tr>\n",
              "    <tr>\n",
              "      <th>7</th>\n",
              "      <td>19.0</td>\n",
              "    </tr>\n",
              "    <tr>\n",
              "      <th>8</th>\n",
              "      <td>23.0</td>\n",
              "    </tr>\n",
              "    <tr>\n",
              "      <th>9</th>\n",
              "      <td>0.0</td>\n",
              "    </tr>\n",
              "  </tbody>\n",
              "</table>\n",
              "</div>"
            ],
            "text/plain": [
              "   Set_of_Numbers\n",
              "0             2.0\n",
              "1             3.0\n",
              "2             5.0\n",
              "3             7.0\n",
              "4            11.0\n",
              "5            13.0\n",
              "6             0.0\n",
              "7            19.0\n",
              "8            23.0\n",
              "9             0.0"
            ]
          },
          "execution_count": 31,
          "metadata": {},
          "output_type": "execute_result"
        }
      ],
      "source": [
        "\"\"\"\n",
        "10.Given a dataframe with NaN Values, fill the NaN values with 0\n",
        "\"\"\"\n",
        "import pandas as pd\n",
        "import numpy as np\n",
        "  \n",
        "nums = {'Set_of_Numbers': [2, 3, 5, 7, 11, 13,np.nan, 19, 23, np.nan]}\n",
        "\n",
        "# Create the dataframe\n",
        "df = pd.DataFrame(nums, columns =['Set_of_Numbers'])\n",
        "  \n",
        "# Apply the function\n",
        "df['Set_of_Numbers'] = df['Set_of_Numbers'].fillna(0)\n",
        "  \n",
        "# print the DataFrame\n",
        "df"
      ]
    },
    {
      "cell_type": "code",
      "execution_count": null,
      "id": "c996e1ee",
      "metadata": {
        "id": "c996e1ee",
        "outputId": "727962da-8060-476c-bb90-5bcd044414ee"
      },
      "outputs": [
        {
          "name": "stdout",
          "output_type": "stream",
          "text": [
            "    cname  profit\n",
            "0  Nestle       0\n",
            "1   Apple  690000\n",
            "2  Adidas   -4500\n",
            "3    Oppo  -15000\n",
            "4  Trends   35000 \n",
            "\n",
            "\n",
            "    cname  profit\n",
            "0  Nestle   False\n",
            "1   Apple    True\n",
            "2  Adidas   False\n",
            "3    Oppo   False\n",
            "4  Trends    True\n"
          ]
        }
      ],
      "source": [
        "\"\"\"\n",
        "11.Given  is  a  dataframe  showing  Company  Names  (cname)  and  corresponding  Profits (profit).  \n",
        "Convert the  values  of  Profit  column  such that  values  in  it  greater than  0  are set to True \n",
        "and the rest are set to False.\"\"\"\n",
        "\n",
        "company_data=pd.read_csv('Ex_04_Company.csv')\n",
        "print(company_data,\"\\n\\n\") \n",
        "\n",
        "company_data['profit'] = company_data['profit'].apply(lambda x:x>0)\n",
        "print(company_data)"
      ]
    },
    {
      "cell_type": "code",
      "execution_count": 1,
      "id": "2f9ba691",
      "metadata": {
        "colab": {
          "base_uri": "https://localhost:8080/"
        },
        "id": "2f9ba691",
        "outputId": "912047b4-c3dd-4f82-f40e-9fc8a969d05e"
      },
      "outputs": [
        {
          "output_type": "stream",
          "name": "stdout",
          "text": [
            "   eid    ename  Stipend\n",
            "0   12     Alia    25000\n",
            "1   20  Deepika    15000\n",
            "2   25     Sara    10000\n",
            "\n",
            "\n",
            "   eid Designation\n",
            "0   12  HR_manager\n",
            "1   20   Associate\n",
            "2   25   Associate\n",
            "\n",
            "\n",
            "   eid    ename  Stipend Designation\n",
            "0   12     Alia    25000  HR_manager\n",
            "1   20  Deepika    15000   Associate\n",
            "2   25     Sara    10000   Associate\n"
          ]
        }
      ],
      "source": [
        "\"\"\"\n",
        "12.Given are 2 dataframes, with one dataframe containing Employee ID (eid),\n",
        "Employee Name (ename) and Stipend (stipend) and the other dataframe containing \n",
        "Employee ID (eid) and designation of the employee (designation). \n",
        "Output the Dataframe containing Employee   ID   (eid),   Employee   Name   (ename),   \n",
        "Stipend   (stipend)   and   Position (position)\n",
        "\"\"\"\n",
        "import pandas as pd\n",
        "\n",
        "list1=[[12,'Alia',25000],[20,'Deepika',15000],[25,'Sara',10000]]\n",
        "df_1=pd.DataFrame(list1,columns=['eid','ename','Stipend'])\n",
        "print(df_1)\n",
        "\n",
        "print(\"\\n\")\n",
        "\n",
        "list2=[[12,'HR_manager'],[20,'Associate'],[25,'Associate']]\n",
        "df_2=pd.DataFrame(list2,columns=['eid','Designation'])\n",
        "print(df_2)\n",
        "\n",
        "print(\"\\n\")\n",
        "dataframe = pd.merge(df_1, df_2, how = 'inner', on = 'eid') # required dataframe\n",
        "print(dataframe)"
      ]
    }
  ],
  "metadata": {
    "kernelspec": {
      "display_name": "Python 3 (ipykernel)",
      "language": "python",
      "name": "python3"
    },
    "language_info": {
      "codemirror_mode": {
        "name": "ipython",
        "version": 3
      },
      "file_extension": ".py",
      "mimetype": "text/x-python",
      "name": "python",
      "nbconvert_exporter": "python",
      "pygments_lexer": "ipython3",
      "version": "3.9.7"
    },
    "colab": {
      "name": "Ex_04_7,8,9,10,11,12.ipynb",
      "provenance": []
    }
  },
  "nbformat": 4,
  "nbformat_minor": 5
}