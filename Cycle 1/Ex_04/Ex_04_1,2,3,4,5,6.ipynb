{
  "cells": [
    {
      "cell_type": "code",
      "execution_count": null,
      "id": "dc068ec2",
      "metadata": {
        "id": "dc068ec2",
        "outputId": "c239f6b1-89a5-4373-8c48-ff2df15e955a"
      },
      "outputs": [
        {
          "name": "stdout",
          "output_type": "stream",
          "text": [
            "[1, 2, 3, 4, 5]\n",
            "Type of numbers ::  <class 'list'> \n",
            "\n",
            "Convert Pandas List to Python Series\n",
            "0    1\n",
            "1    2\n",
            "2    3\n",
            "3    4\n",
            "4    5\n",
            "dtype: int64\n",
            "Type of numbers ::  <class 'list'> \n",
            "\n",
            "Convert Pandas List to Python Series with given index\n",
            "1    1\n",
            "3    2\n",
            "5    3\n",
            "7    4\n",
            "9    5\n",
            "dtype: int64\n"
          ]
        }
      ],
      "source": [
        "\"\"\"\n",
        "1.Write a python program to implement List-to-Series Conversion.\n",
        "\"\"\"\n",
        "\n",
        "import pandas as pd\n",
        "ls=[1,2,3,4,5]\n",
        "print(ls)\n",
        "print(\"Type of numbers :: \",type(ls),\"\\n\")\n",
        "print(\"Convert Pandas List to Python Series\")\n",
        "print(pd.Series(ls))\n",
        "print(\"Type of numbers :: \",type(ls),\"\\n\")\n",
        "print(\"Convert Pandas List to Python Series with given index\")\n",
        "series = pd.Series(ls, index = [1, 3, 5, 7, 9])\n",
        "print(series)"
      ]
    },
    {
      "cell_type": "code",
      "execution_count": null,
      "id": "314e7d0a",
      "metadata": {
        "id": "314e7d0a",
        "outputId": "d417b614-a21f-4778-9e1a-fb3d60b9d9c5"
      },
      "outputs": [
        {
          "name": "stdout",
          "output_type": "stream",
          "text": [
            "Date_series :: \n",
            "\n",
            "2021-05-01 00:00:00\n",
            "2021-05-02 00:00:00\n",
            "2021-05-03 00:00:00\n",
            "2021-05-04 00:00:00\n",
            "2021-05-05 00:00:00\n",
            "2021-05-06 00:00:00\n",
            "2021-05-07 00:00:00\n",
            "2021-05-08 00:00:00\n",
            "2021-05-09 00:00:00\n",
            "2021-05-10 00:00:00\n",
            "2021-05-11 00:00:00\n",
            "2021-05-12 00:00:00\n"
          ]
        }
      ],
      "source": [
        "\"\"\"\n",
        "2. Write  a  python  program  to Generate  the  series  of  dates  from  1st  May,  \n",
        "2021  to  12th May, 2021 (both inclusive).\n",
        "\"\"\"\n",
        "\n",
        "date_series = pd.date_range(start = '05-01-2021', end = '05-12-2021')\n",
        "print(\"Date_series :: \\n\")\n",
        "for i in date_series:\n",
        "    print(i)\n",
        "    "
      ]
    },
    {
      "cell_type": "code",
      "execution_count": null,
      "id": "179384be",
      "metadata": {
        "id": "179384be",
        "outputId": "4fedf0a4-1370-43ef-e3fa-ab02034bce7a"
      },
      "outputs": [
        {
          "name": "stdout",
          "output_type": "stream",
          "text": [
            "        Name  Age University\n",
            "5      Ankit   23        BHU\n",
            "4  Aishwarya   21        JNU\n",
            "3    Shaurya   22         DU\n",
            "2   Shivangi   21        BHU\n"
          ]
        }
      ],
      "source": [
        "\"\"\"\n",
        "3. Given a dictionary, convert it into corresponding dataframe and display it\n",
        "\"\"\"\n",
        "\n",
        "import pandas as pd\n",
        "\n",
        "data = {\n",
        "    'Name' : ['Ankit', 'Aishwarya', 'Shaurya', 'Shivangi'],\n",
        "    'Age' : [23, 21, 22, 21],\n",
        "    'University' : ['BHU', 'JNU', 'DU', 'BHU'],\n",
        "}\n",
        "df = pd.DataFrame(data,index = ['5', '4', '3', '2'])\n",
        "print(df) "
      ]
    },
    {
      "cell_type": "code",
      "execution_count": null,
      "id": "9eedde91",
      "metadata": {
        "id": "9eedde91",
        "outputId": "ddac232e-d441-4cca-d27c-08f753256da3"
      },
      "outputs": [
        {
          "name": "stdout",
          "output_type": "stream",
          "text": [
            "   First  Second  Third\n",
            "a      1       2      3\n",
            "b      4       5      6\n",
            "c      7       8      9\n"
          ]
        }
      ],
      "source": [
        "\"\"\"\n",
        "4. Given a 2D List, convert it into corresponding dataframe and display it\n",
        "\"\"\"\n",
        "import pandas as pd\n",
        "data = [[1,2,3],[4,5,6],[7,8,9]]\n",
        "df = pd.DataFrame(data,columns=['First','Second','Third'],index=['a','b','c'])\n",
        "print(df)"
      ]
    },
    {
      "cell_type": "code",
      "execution_count": null,
      "id": "ea94d204",
      "metadata": {
        "id": "ea94d204",
        "outputId": "aa65f944-e718-494b-a9e9-519bce4bb522"
      },
      "outputs": [
        {
          "name": "stdout",
          "output_type": "stream",
          "text": [
            "Columns :\n",
            "\n",
            "  Name  score grade\n",
            "0   xy     20     A\n",
            "1   mn     30    A+\n",
            "2   pq     40     O\n",
            "\n",
            "\n",
            "Subset Columns:\n",
            "\n",
            "  Name\n",
            "0   xy\n",
            "1   mn\n",
            "2   pq\n"
          ]
        }
      ],
      "source": [
        "\"\"\"\n",
        "5. Given a CSV file, read it into a dataframe and display it.\n",
        "\"\"\"\n",
        "import pandas as pd\n",
        "print(\"Columns :\\n\")\n",
        "df=pd.read_csv(\"Ex_04_05_input.csv\")\n",
        "print(df)\n",
        "print(\"\\n\\nSubset Columns:\\n\")\n",
        "df=pd.read_csv(\"Ex_04_05_input.csv\",usecols=['Name'])\n",
        "print(df)"
      ]
    },
    {
      "cell_type": "code",
      "execution_count": null,
      "id": "26f1fd2d",
      "metadata": {
        "id": "26f1fd2d",
        "outputId": "86e2f71c-ff47-419a-dbbd-0be936cfc5f1"
      },
      "outputs": [
        {
          "name": "stdout",
          "output_type": "stream",
          "text": [
            "    Name  Age  Rank\n",
            "0    Raj   20     1\n",
            "1  Akhil   22    10\n",
            "2  Sonum   21     8\n",
            "3  Tilak   19     9\n",
            "4  Divya   21     3\n",
            "5  Megha   21    15\n",
            "\n",
            "\n",
            "Sorted\n",
            "\n",
            "\n",
            "    Name  Age  Rank\n",
            "0    Raj   20     1\n",
            "4  Divya   21     3\n",
            "2  Sonum   21     8\n",
            "3  Tilak   19     9\n",
            "1  Akhil   22    10\n",
            "5  Megha   21    15\n"
          ]
        }
      ],
      "source": [
        "\"\"\"\n",
        "6. Given a dataframe, sort it by multiple columns.\n",
        "\"\"\"\n",
        "import numpy as np\n",
        "import pandas as pd\n",
        "\n",
        "df = pd.DataFrame({'Name': ['Raj', 'Akhil', 'Sonum', 'Tilak', 'Divya', 'Megha'],'Age': [20, 22, 21, 19, 21, 21],\n",
        "                   'Rank': [1,10,8, 9,3,15]\n",
        "                   })\n",
        "print(df)\n",
        "print(\"\\n\\nSorted\\n\\n\")\n",
        "print(df.sort_values(by=['Rank','Age'], ascending=[True,False] ))"
      ]
    },
    {
      "cell_type": "code",
      "execution_count": null,
      "id": "50f7e98c",
      "metadata": {
        "id": "50f7e98c"
      },
      "outputs": [],
      "source": [
        ""
      ]
    }
  ],
  "metadata": {
    "kernelspec": {
      "display_name": "Python 3 (ipykernel)",
      "language": "python",
      "name": "python3"
    },
    "language_info": {
      "codemirror_mode": {
        "name": "ipython",
        "version": 3
      },
      "file_extension": ".py",
      "mimetype": "text/x-python",
      "name": "python",
      "nbconvert_exporter": "python",
      "pygments_lexer": "ipython3",
      "version": "3.9.7"
    },
    "colab": {
      "name": "Ex_04_1,2,3,4,5,6.ipynb",
      "provenance": []
    }
  },
  "nbformat": 4,
  "nbformat_minor": 5
}